{
 "cells": [
  {
   "cell_type": "code",
   "execution_count": 2,
   "metadata": {},
   "outputs": [],
   "source": [
    "#imporation des bibiotheques necessaires\n",
    "import cv2\n",
    "import numpy as np\n",
    "import pandas as pd\n",
    "\n",
    "import matplotlib.pyplot as plt\n",
    "import seaborn as sns\n",
    "import imutils\n",
    "import mahotas\n",
    "import glob\n",
    "\n",
    "\n",
    "from sklearn.neighbors import KNeighborsClassifier\n",
    "from sklearn.tree import DecisionTreeClassifier\n",
    "from sklearn.ensemble import RandomForestClassifier,VotingClassifier\n",
    "from sklearn.metrics import accuracy_score\n",
    "\n",
    "from sklearn.decomposition import KernelPCA,PCA,FactorAnalysis\n",
    "\n",
    "from sklearn.manifold import Isomap,TSNE\n",
    "\n",
    "import mahotas\n",
    "\n",
    "\n",
    "\n",
    "from sklearn.preprocessing import StandardScaler\n",
    "\n",
    "from sklearn.model_selection import train_test_split,learning_curve\n",
    "from sklearn.model_selection import GridSearchCV\n",
    "\n",
    "#ignore les messages d'erreurs\n",
    "import warnings\n",
    "warnings.filterwarnings('ignore')\n"
   ]
  },
  {
   "cell_type": "markdown",
   "metadata": {},
   "source": [
    "# 1-Features Extraction"
   ]
  },
  {
   "cell_type": "code",
   "execution_count": null,
   "metadata": {},
   "outputs": [],
   "source": [
    "#fonction qui extrait les caracteristique de la texture c.a.d les moments de Hu\n",
    "\n",
    "\n",
    "def shapeFeatures(image):\n",
    "    \n",
    "    image = cv2.cvtColor(np.uint8(image), cv2.COLOR_BGR2GRAY)\n",
    "    \n",
    "    shape = cv2.HuMoments(cv2.moments(image)).flatten()\n",
    "    \n",
    "    feature = -np.sign(shape) * np.log10(np.abs(shape))\n",
    "    \n",
    "    \n",
    "    return feature"
   ]
  },
  {
   "cell_type": "code",
   "execution_count": null,
   "metadata": {},
   "outputs": [],
   "source": [
    "#Texture using Haralick\n",
    "\n",
    "def textureFeature(image):\n",
    "    \n",
    "    # convert the image to grayscale\n",
    "    gray = cv2.cvtColor(np.uint8(image), cv2.COLOR_BGR2GRAY)\n",
    "    # compute the haralick texture feature vector\n",
    "    features = mahotas.features.haralick(image.astype(np.uint8)).ravel()\n",
    "    # return the result\n",
    "    return features\n"
   ]
  },
  {
   "cell_type": "code",
   "execution_count": null,
   "metadata": {},
   "outputs": [],
   "source": [
    "#Fonction qui cree une dataset contenant les caracteristiques des images de training\n",
    "\n",
    "def createTrainFeatures(Folder):\n",
    "    \n",
    "    dataframe=pd.DataFrame() #dataframe global qui va stocker les caracteristique de chaque images\n",
    "    \n",
    "    \n",
    "    #lister les sous dossiers contenues dans le dossier Folder\n",
    "    for class_fold in glob.glob(Folder+\"/*\"):\n",
    "        \n",
    "        #Pour chaque sous-dossiers on liste liste les images \"jpg\" qu'il contient\n",
    "        \n",
    "        for imagePath in glob.glob(class_fold+ \"/*.jpg\"):\n",
    "            \n",
    "            #recupere le nom de l'image courant\n",
    "            image = cv2.imread(imagePath) #lecture de l'image courant\n",
    "            \n",
    "            \n",
    "            #moments=getMoments(image) #recupere le moments de l'image\n",
    "            #hist=hsvHistogram(image) #recupere l'histogramme\n",
    "            texture=textureFeature(image) \n",
    "            shape=shapeFeatures(image)\n",
    "            \n",
    "            #concatenation du vecteurs de moments avec l'histogramme dans un seul vecteur\n",
    "            features=np.concatenate((texture,shape))\n",
    "            \n",
    "            #creation d'un dataframe contenant les caracteristique de chaque image avec le nom et l'id de sa classe\n",
    "            df=pd.DataFrame([features])\n",
    "            df[\"class_name\"]=class_fold.split(\"\\\\\")[1]\n",
    "            \n",
    "            \n",
    "            #ajout du dataframe de l'image dans le dataframe globale\n",
    "            dataframe=dataframe.append(df)\n",
    "               \n",
    "    \n",
    "    dataframe.index=range(dataframe.index.size) #reorganise les index du dataframe\n",
    "    \n",
    "    return dataframe\n",
    "dataset=createTrainFeatures(\"asl_alphabet_train\")\n",
    "dataset.head()\n"
   ]
  },
  {
   "cell_type": "code",
   "execution_count": null,
   "metadata": {},
   "outputs": [],
   "source": [
    "#Fonction qui cree une dataset contenant les caracteristiques des images du test\n",
    "\n",
    "def createTestFeatures(Folder):\n",
    "    \n",
    "    dataframe=pd.DataFrame() #dataframe global qui va stocker les caracteristique de chaque images\n",
    "    \n",
    "    #Pour chaque sous-dossiers on liste liste les images \"jpg\" qu'il contient\n",
    "    \n",
    "    for imagePath in glob.glob(Folder+ \"/*.jpg\"):\n",
    "        \n",
    "        #recupere le nom de l'image courant\n",
    "        image = cv2.imread(imagePath) #lecture de l'image courant\n",
    "            \n",
    "            \n",
    "        #moments=getMoments(image) #recupere le moments de l'image\n",
    "        #hist=hsvHistogram(image) #recupere l'histogramme\n",
    "        texture=textureFeature(image) \n",
    "        shape=shapeFeatures(image)\n",
    "            \n",
    "        #concatenation du vecteurs de moments avec l'histogramme dans un seul vecteur\n",
    "        features=np.concatenate((shape,texture))\n",
    "            \n",
    "        #creation d'un dataframe contenant les caracteristique de chaque image avec le nom et l'id de sa classe\n",
    "        df=pd.DataFrame([features])\n",
    "        df[\"Image_name\"]=imagePath.split(\"\\\\\")[1]\n",
    "            \n",
    "            \n",
    "        #ajout du dataframe de l'image dans le dataframe globale\n",
    "        dataframe=dataframe.append(df)\n",
    "               \n",
    "    \n",
    "    dataframe.index=range(dataframe.index.size) #reorganise les index du dataframe\n",
    "    \n",
    "    return dataframe\n",
    "\n",
    "data_pred=createTestFeatures(\"asl_alphabet_test\")\n",
    "data_pred.head()\n"
   ]
  },
  {
   "cell_type": "code",
   "execution_count": 5,
   "metadata": {},
   "outputs": [],
   "source": [
    "#separation des donnée \n",
    "\n",
    "X=dataset.drop([\"class\"],axis=1) #recuperation des variables d'entrées\n",
    "Y=dataset[\"class\"] #recupere les variables de sortie"
   ]
  },
  {
   "cell_type": "code",
   "execution_count": 6,
   "metadata": {},
   "outputs": [],
   "source": [
    "#Standardisation des donnes\n",
    "std_scaler=StandardScaler().fit(X.values)\n",
    "X_std=std_scaler.transform(X.values)"
   ]
  },
  {
   "cell_type": "code",
   "execution_count": 7,
   "metadata": {},
   "outputs": [],
   "source": [
    "X_train,X_test,Y_train,Y_test=train_test_split(X_std,Y,test_size=0.3,random_state=10)"
   ]
  },
  {
   "cell_type": "markdown",
   "metadata": {},
   "source": [
    "# 2- Apprentissage"
   ]
  },
  {
   "cell_type": "markdown",
   "metadata": {},
   "source": [
    "## KNN"
   ]
  },
  {
   "cell_type": "code",
   "execution_count": 8,
   "metadata": {},
   "outputs": [],
   "source": [
    "knn=KNeighborsClassifier(n_neighbors=5,n_jobs=10)\n",
    "\n",
    "knn.fit(X_train,Y_train)\n",
    "\n",
    "y_pred_knn=knn.predict(X_test)"
   ]
  },
  {
   "cell_type": "code",
   "execution_count": 9,
   "metadata": {},
   "outputs": [
    {
     "name": "stdout",
     "output_type": "stream",
     "text": [
      "Accuracy Score KNN =  0.9839463601532568\n"
     ]
    }
   ],
   "source": [
    "#Evaluation du modèle de classification\n",
    "\n",
    "acc_knn=accuracy_score(Y_test,y_pred_knn) #accuracy\n",
    "#mconf_knn=confusion_matrix(Y_test,y_pred_knn) #matrice de confusion\n",
    "\n",
    "print(\"Accuracy Score KNN = \",acc_knn)\n",
    "#print(classification_report(Y_test,y_pred_svm))"
   ]
  },
  {
   "cell_type": "markdown",
   "metadata": {},
   "source": [
    "## Decision Tree"
   ]
  },
  {
   "cell_type": "code",
   "execution_count": 10,
   "metadata": {},
   "outputs": [],
   "source": [
    "tree=DecisionTreeClassifier(random_state=10)\n",
    "\n",
    "tree.fit(X_train,Y_train)\n",
    "\n",
    "y_pred_tree=tree.predict(X_test)\n"
   ]
  },
  {
   "cell_type": "code",
   "execution_count": 11,
   "metadata": {},
   "outputs": [
    {
     "name": "stdout",
     "output_type": "stream",
     "text": [
      "Accuracy Score Decision Tree =  0.9327586206896552\n"
     ]
    }
   ],
   "source": [
    "#Evaluation du modèle de classification\n",
    "\n",
    "acc_tree=accuracy_score(Y_test,y_pred_tree) #accuracy\n",
    "\n",
    "print(\"Accuracy Score Decision Tree = \",acc_tree)"
   ]
  },
  {
   "cell_type": "markdown",
   "metadata": {},
   "source": [
    "## Random Forest"
   ]
  },
  {
   "cell_type": "code",
   "execution_count": 12,
   "metadata": {},
   "outputs": [],
   "source": [
    "\n",
    "rf=RandomForestClassifier(n_jobs=10)\n",
    "rf.fit(X_train,Y_train)\n",
    "\n",
    "y_pred_rf=rf.predict(X_test)\n",
    "\n"
   ]
  },
  {
   "cell_type": "code",
   "execution_count": 11,
   "metadata": {},
   "outputs": [
    {
     "name": "stdout",
     "output_type": "stream",
     "text": [
      "Accuracy : 0.9911494252873563\n"
     ]
    }
   ],
   "source": [
    "acc_rf=accuracy_score(Y_test,y_pred_rf) #accuracy\n",
    "print(\"Accuracy :\",acc_rf)"
   ]
  },
  {
   "cell_type": "markdown",
   "metadata": {},
   "source": [
    "## Model summary"
   ]
  },
  {
   "cell_type": "code",
   "execution_count": 12,
   "metadata": {},
   "outputs": [
    {
     "data": {
      "image/png": "[encoded data removed]",
      "text/plain": [
       "<Figure size 432x288 with 1 Axes>"
      ]
     },
     "metadata": {
      "needs_background": "light"
     },
     "output_type": "display_data"
    }
   ],
   "source": [
    "cv_res = pd.DataFrame({\"Accuracies\":[acc_tree,acc_knn,acc_rf],\"Algorithm\":['Decision Tree','KNN', 'Random Forest']})\n",
    "\n",
    "g = sns.barplot(\"Accuracies\",\"Algorithm\",data = cv_res, palette=\"Set3\")\n",
    "g.set_xlabel(\"Accuracy\")\n",
    "g = g.set_title(\"Scores Classifieurs\")"
   ]
  },
  {
   "cell_type": "markdown",
   "metadata": {},
   "source": [
    "# 3- Features Selections"
   ]
  },
  {
   "cell_type": "markdown",
   "metadata": {},
   "source": [
    "## Feature selection using Relief"
   ]
  },
  {
   "cell_type": "code",
   "execution_count": 13,
   "metadata": {},
   "outputs": [
    {
     "name": "stdout",
     "output_type": "stream",
     "text": [
      "(No. of tuples, No. of Columns before ReliefF) : (87000, 176)\n",
      "(No. of tuples, No. of Columns after ReliefF) : (87000, 100)\n"
     ]
    }
   ],
   "source": [
    "from ReliefF import ReliefF\n",
    "\n",
    "fs = ReliefF(n_neighbors=10, n_features_to_keep=100)\n",
    "\n",
    "X_red = fs.fit_transform(X_std, Y.values)\n",
    "print(\"(No. of tuples, No. of Columns before ReliefF) : \"+str(X_std.shape)+\n",
    "      \"\\n(No. of tuples, No. of Columns after ReliefF) : \"+str(X_red.shape))"
   ]
  },
  {
   "cell_type": "code",
   "execution_count": 14,
   "metadata": {},
   "outputs": [],
   "source": [
    "#split new data\n",
    "X_train_fs,X_test_fs,Y_train_fs,Y_test_fs=train_test_split(X_red,Y,test_size=0.3,random_state=10)"
   ]
  },
  {
   "cell_type": "markdown",
   "metadata": {},
   "source": [
    "### KNN"
   ]
  },
  {
   "cell_type": "code",
   "execution_count": 15,
   "metadata": {},
   "outputs": [
    {
     "name": "stdout",
     "output_type": "stream",
     "text": [
      "Accuracy Score KNN =  0.9909961685823755\n"
     ]
    }
   ],
   "source": [
    "knn_fs=KNeighborsClassifier(n_neighbors=5,n_jobs=10)\n",
    "\n",
    "knn_fs.fit(X_train_fs,Y_train_fs)\n",
    "\n",
    "y_pred_knn_fs=knn_fs.predict(X_test_fs)\n",
    "\n",
    "#Evaluation du modèle de classification\n",
    "\n",
    "acc_knn_fs=accuracy_score(Y_test_fs,y_pred_knn_fs) #accuracy\n",
    "#mconf_knn=confusion_matrix(Y_test,y_pred_knn) #matrice de confusion\n",
    "\n",
    "print(\"Accuracy Score KNN = \",acc_knn_fs)"
   ]
  },
  {
   "cell_type": "markdown",
   "metadata": {},
   "source": [
    "### Decision Tree"
   ]
  },
  {
   "cell_type": "code",
   "execution_count": 17,
   "metadata": {},
   "outputs": [
    {
     "name": "stdout",
     "output_type": "stream",
     "text": [
      "Accuracy Score Tree Decision ReliefF =  0.9331034482758621\n"
     ]
    }
   ],
   "source": [
    "tree_fs=DecisionTreeClassifier(random_state=10)\n",
    "\n",
    "tree_fs.fit(X_train_fs,Y_train_fs)\n",
    "\n",
    "y_pred_tree_fs=tree_fs.predict(X_test_fs)\n",
    "\n",
    "#Evaluation du modèle de classification\n",
    "\n",
    "acc_tree_fs=accuracy_score(Y_test_fs,y_pred_tree_fs) #accuracy\n",
    "#mconf_knn=confusion_matrix(Y_test,y_pred_knn) #matrice de confusion\n",
    "\n",
    "print(\"Accuracy Score Tree Decision ReliefF = \",acc_tree_fs)\n"
   ]
  },
  {
   "cell_type": "markdown",
   "metadata": {},
   "source": [
    "### Random Forest"
   ]
  },
  {
   "cell_type": "code",
   "execution_count": 18,
   "metadata": {},
   "outputs": [
    {
     "name": "stdout",
     "output_type": "stream",
     "text": [
      "Accuracy Random Forest ReliefF : 0.9906513409961686\n"
     ]
    }
   ],
   "source": [
    "\n",
    "rf_fs=RandomForestClassifier(n_jobs=10)\n",
    "rf_fs.fit(X_train_fs,Y_train_fs)\n",
    "\n",
    "y_pred_rf_fs=rf_fs.predict(X_test_fs)\n",
    "\n",
    "acc_rf_fs=accuracy_score(Y_test_fs,y_pred_rf_fs) #accuracy\n",
    "print(\"Accuracy Random Forest ReliefF :\",acc_rf_fs)"
   ]
  },
  {
   "cell_type": "markdown",
   "metadata": {},
   "source": [
    "# 3- Hyperparameter tuning & learning curves for selected classifiers"
   ]
  },
  {
   "cell_type": "code",
   "execution_count": 47,
   "metadata": {},
   "outputs": [],
   "source": [
    "def plot_learning_curve(estimator, title, X, y, ylim=None, cv=None,\n",
    "        n_jobs=-1, train_sizes=np.linspace(.1, 1.0, 5)):\n",
    "    \"\"\"Generate a simple plot of the test and training learning curve\"\"\"\n",
    "    plt.figure()\n",
    "    plt.title(title)\n",
    "    if ylim is not None:\n",
    "        plt.ylim(*ylim)\n",
    "    plt.xlabel(\"Training examples\")\n",
    "    plt.ylabel(\"Score\")\n",
    "    train_sizes, train_scores, test_scores = learning_curve(\n",
    "        estimator, X, y, cv=cv, n_jobs=n_jobs, train_sizes=train_sizes)\n",
    "    train_scores_mean = np.mean(train_scores, axis=1)\n",
    "    train_scores_std = np.std(train_scores, axis=1)\n",
    "    test_scores_mean = np.mean(test_scores, axis=1)\n",
    "    test_scores_std = np.std(test_scores, axis=1)\n",
    "    plt.grid()\n",
    "\n",
    "    plt.fill_between(train_sizes, train_scores_mean - train_scores_std,\n",
    "                     train_scores_mean + train_scores_std, alpha=0.1,\n",
    "                     color=\"r\")\n",
    "    plt.fill_between(train_sizes, test_scores_mean - test_scores_std,\n",
    "                     test_scores_mean + test_scores_std, alpha=0.1, color=\"g\")\n",
    "    plt.plot(train_sizes, train_scores_mean, 'o-', color=\"r\",\n",
    "             label=\"Training score\")\n",
    "    plt.plot(train_sizes, test_scores_mean, 'o-', color=\"g\",\n",
    "             label=\"Cross-validation score\")\n",
    "    plt.legend(loc=\"best\")\n",
    "    \n",
    "    return plt\n",
    "\n"
   ]
  },
  {
   "cell_type": "code",
   "execution_count": 49,
   "metadata": {},
   "outputs": [
    {
     "data": {
      "image/png": "[encoded data removed]",
      "text/plain": [
       "<Figure size 432x288 with 1 Axes>"
      ]
     },
     "metadata": {},
     "output_type": "display_data"
    },
    {
     "data": {
      "image/png": "[encoded data removed]",
      "text/plain": [
       "<Figure size 432x288 with 1 Axes>"
      ]
     },
     "metadata": {},
     "output_type": "display_data"
    },
    {
     "data": {
      "image/png": "[encoded data removed]",
      "text/plain": [
       "<Figure size 432x288 with 1 Axes>"
      ]
     },
     "metadata": {},
     "output_type": "display_data"
    }
   ],
   "source": [
    "g = plot_learning_curve(knn,\"Knn learning curves\",X_train,Y_train,cv=5)\n",
    "g = plot_learning_curve(tree,\"Decision Tree learning curves\",X_train,Y_train,cv=5)\n",
    "g = plot_learning_curve(rf,\"Random Forest learning curves\",X_train,Y_train,cv=5)"
   ]
  },
  {
   "cell_type": "markdown",
   "metadata": {},
   "source": [
    "# 4-Selecting and combining the best classifiers :\n",
    "On va afficher le heatmaps de correlations des resulats des meilleurs classifieurs,et eliminer les classifieurs dont les predictions ne sont pas en correlations avec les autres."
   ]
  },
  {
   "cell_type": "code",
   "execution_count": 19,
   "metadata": {},
   "outputs": [],
   "source": [
    "\n",
    "\n",
    "test_TREE = pd.Series(y_pred_tree, name=\"Decision Tree\")\n",
    "\n",
    "test_KNN = pd.Series(y_pred_knn, name=\"KNN\")\n",
    "\n",
    "test_RF = pd.Series(y_pred_rf, name=\"Random_forest\")\n",
    "\n"
   ]
  },
  {
   "cell_type": "code",
   "execution_count": 20,
   "metadata": {},
   "outputs": [],
   "source": [
    "TREE=test_TREE.map({'A':0,'B':1,'C':2,'D':3,'E':4,'F':5,'G':6,'H':7,'I':8,'J':9,'K':10,'L':11,'M':12,'N':13,'O':14,'P':15,\n",
    "                     'Q':16,'R':17,'S':18,'T':19,'U':20,'V':21,'W':22,'X':23,'Y':24,'Z':25,'del':26,'nothing':27,'space':28}).astype(int)\n",
    "\n",
    "KNN=test_KNN.map({'A':0,'B':1,'C':2,'D':3,'E':4,'F':5,'G':6,'H':7,'I':8,'J':9,'K':10,'L':11,'M':12,'N':13,'O':14,'P':15,\n",
    "                     'Q':16,'R':17,'S':18,'T':19,'U':20,'V':21,'W':22,'X':23,'Y':24,'Z':25,'del':26,'nothing':27,'space':28}).astype(int)\n",
    "RF=test_RF.map({'A':0,'B':1,'C':2,'D':3,'E':4,'F':5,'G':6,'H':7,'I':8,'J':9,'K':10,'L':11,'M':12,'N':13,'O':14,'P':15,\n",
    "                     'Q':16,'R':17,'S':18,'T':19,'U':20,'V':21,'W':22,'X':23,'Y':24,'Z':25,'del':26,'nothing':27,'space':28}).astype(int)"
   ]
  },
  {
   "cell_type": "code",
   "execution_count": 34,
   "metadata": {},
   "outputs": [
    {
     "data": {
      "text/plain": [
       "(3.0, 0.0)"
      ]
     },
     "execution_count": 34,
     "metadata": {},
     "output_type": "execute_result"
    },
    {
     "data": {
      "image/png": "[encoded data removed]",
      "text/plain": [
       "<Figure size 576x360 with 2 Axes>"
      ]
     },
     "metadata": {},
     "output_type": "display_data"
    }
   ],
   "source": [
    "# Concatenate all classifier results\n",
    "plt.figure(figsize=(8,5))\n",
    "ensemble_results = pd.concat([RF,KNN,TREE],axis=1)\n",
    "g= sns.heatmap(ensemble_results.corr(),annot=True)\n",
    "bottom, top = g.get_ylim()\n",
    "g.set_ylim(bottom + 0.5, top - 0.5)"
   ]
  },
  {
   "cell_type": "markdown",
   "metadata": {},
   "source": [
    "# Ensembling\n"
   ]
  },
  {
   "cell_type": "code",
   "execution_count": 35,
   "metadata": {
    "scrolled": false
   },
   "outputs": [],
   "source": [
    "#on choisit les meilleurs classifierus et on fait une vote a la majorité sur les resultat \n",
    "\n",
    "VotingPredictor = VotingClassifier(estimators=[('KNN',knn), ('Random_forest',rf),('Decision Tree',tree)], weights=[2,1.5,1],\n",
    "                                   voting='soft')\n",
    "\n",
    "VotingPredictor = VotingPredictor.fit(X_train,Y_train)\n",
    "\n",
    "#Ici on va donner les données de predictions\n",
    "VotingPredictor_predictions = VotingPredictor.predict(X_test)\n",
    "\n",
    "\n"
   ]
  },
  {
   "cell_type": "code",
   "execution_count": 36,
   "metadata": {},
   "outputs": [
    {
     "name": "stdout",
     "output_type": "stream",
     "text": [
      "Accuracy :  0.9950191570881226\n"
     ]
    }
   ],
   "source": [
    "accu=accuracy_score(Y_test,VotingPredictor_predictions)\n",
    "print(\"Accuracy : \",accu)"
   ]
  },
  {
   "cell_type": "markdown",
   "metadata": {},
   "source": [
    "# Prediction des données de Test"
   ]
  },
  {
   "cell_type": "code",
   "execution_count": 37,
   "metadata": {},
   "outputs": [],
   "source": [
    "#recuperation des features des images à predire\n",
    "X_pred=data_pred.drop([\"Image_name\"],axis=1)\n",
    "\n",
    "\n",
    "#standardisations\n",
    "std_scal=StandardScaler().fit(X_pred.values)\n",
    "X_pred=std_scal.transform(X_pred.values)\n",
    "\n",
    "\n"
   ]
  },
  {
   "cell_type": "code",
   "execution_count": 44,
   "metadata": {},
   "outputs": [],
   "source": [
    "# Predictions des données de test\n",
    "y_pred = VotingPredictor.predict(X_pred)"
   ]
  },
  {
   "cell_type": "code",
   "execution_count": 45,
   "metadata": {},
   "outputs": [
    {
     "data": {
      "text/html": [
       "<div>\n",
       "<style scoped>\n",
       "    .dataframe tbody tr th:only-of-type {\n",
       "        vertical-align: middle;\n",
       "    }\n",
       "\n",
       "    .dataframe tbody tr th {\n",
       "        vertical-align: top;\n",
       "    }\n",
       "\n",
       "    .dataframe thead th {\n",
       "        text-align: right;\n",
       "    }\n",
       "</style>\n",
       "<table border=\"1\" class=\"dataframe\">\n",
       "  <thead>\n",
       "    <tr style=\"text-align: right;\">\n",
       "      <th></th>\n",
       "      <th>Name</th>\n",
       "      <th>Classe</th>\n",
       "    </tr>\n",
       "  </thead>\n",
       "  <tbody>\n",
       "    <tr>\n",
       "      <td>0</td>\n",
       "      <td>A_test.jpg</td>\n",
       "      <td>space</td>\n",
       "    </tr>\n",
       "    <tr>\n",
       "      <td>1</td>\n",
       "      <td>B_test.jpg</td>\n",
       "      <td>E</td>\n",
       "    </tr>\n",
       "    <tr>\n",
       "      <td>2</td>\n",
       "      <td>C_test.jpg</td>\n",
       "      <td>C</td>\n",
       "    </tr>\n",
       "    <tr>\n",
       "      <td>3</td>\n",
       "      <td>D_test.jpg</td>\n",
       "      <td>D</td>\n",
       "    </tr>\n",
       "    <tr>\n",
       "      <td>4</td>\n",
       "      <td>E_test.jpg</td>\n",
       "      <td>E</td>\n",
       "    </tr>\n",
       "    <tr>\n",
       "      <td>5</td>\n",
       "      <td>F_test.jpg</td>\n",
       "      <td>F</td>\n",
       "    </tr>\n",
       "    <tr>\n",
       "      <td>6</td>\n",
       "      <td>G_test.jpg</td>\n",
       "      <td>G</td>\n",
       "    </tr>\n",
       "    <tr>\n",
       "      <td>7</td>\n",
       "      <td>H_test.jpg</td>\n",
       "      <td>H</td>\n",
       "    </tr>\n",
       "    <tr>\n",
       "      <td>8</td>\n",
       "      <td>I_test.jpg</td>\n",
       "      <td>I</td>\n",
       "    </tr>\n",
       "    <tr>\n",
       "      <td>9</td>\n",
       "      <td>J_test.jpg</td>\n",
       "      <td>J</td>\n",
       "    </tr>\n",
       "    <tr>\n",
       "      <td>10</td>\n",
       "      <td>K_test.jpg</td>\n",
       "      <td>K</td>\n",
       "    </tr>\n",
       "    <tr>\n",
       "      <td>11</td>\n",
       "      <td>L_test.jpg</td>\n",
       "      <td>L</td>\n",
       "    </tr>\n",
       "    <tr>\n",
       "      <td>12</td>\n",
       "      <td>M_test.jpg</td>\n",
       "      <td>O</td>\n",
       "    </tr>\n",
       "    <tr>\n",
       "      <td>13</td>\n",
       "      <td>nothing_test.jpg</td>\n",
       "      <td>nothing</td>\n",
       "    </tr>\n",
       "    <tr>\n",
       "      <td>14</td>\n",
       "      <td>N_test.jpg</td>\n",
       "      <td>G</td>\n",
       "    </tr>\n",
       "    <tr>\n",
       "      <td>15</td>\n",
       "      <td>O_test.jpg</td>\n",
       "      <td>E</td>\n",
       "    </tr>\n",
       "    <tr>\n",
       "      <td>16</td>\n",
       "      <td>P_test.jpg</td>\n",
       "      <td>Q</td>\n",
       "    </tr>\n",
       "    <tr>\n",
       "      <td>17</td>\n",
       "      <td>Q_test.jpg</td>\n",
       "      <td>Q</td>\n",
       "    </tr>\n",
       "    <tr>\n",
       "      <td>18</td>\n",
       "      <td>R_test.jpg</td>\n",
       "      <td>U</td>\n",
       "    </tr>\n",
       "    <tr>\n",
       "      <td>19</td>\n",
       "      <td>space_test.jpg</td>\n",
       "      <td>J</td>\n",
       "    </tr>\n",
       "    <tr>\n",
       "      <td>20</td>\n",
       "      <td>S_test.jpg</td>\n",
       "      <td>S</td>\n",
       "    </tr>\n",
       "    <tr>\n",
       "      <td>21</td>\n",
       "      <td>T_test.jpg</td>\n",
       "      <td>S</td>\n",
       "    </tr>\n",
       "    <tr>\n",
       "      <td>22</td>\n",
       "      <td>U_test.jpg</td>\n",
       "      <td>L</td>\n",
       "    </tr>\n",
       "    <tr>\n",
       "      <td>23</td>\n",
       "      <td>V_test.jpg</td>\n",
       "      <td>V</td>\n",
       "    </tr>\n",
       "    <tr>\n",
       "      <td>24</td>\n",
       "      <td>W_test.jpg</td>\n",
       "      <td>I</td>\n",
       "    </tr>\n",
       "    <tr>\n",
       "      <td>25</td>\n",
       "      <td>X_test.jpg</td>\n",
       "      <td>Z</td>\n",
       "    </tr>\n",
       "    <tr>\n",
       "      <td>26</td>\n",
       "      <td>Y_test.jpg</td>\n",
       "      <td>F</td>\n",
       "    </tr>\n",
       "    <tr>\n",
       "      <td>27</td>\n",
       "      <td>Z_test.jpg</td>\n",
       "      <td>Z</td>\n",
       "    </tr>\n",
       "  </tbody>\n",
       "</table>\n",
       "</div>"
      ],
      "text/plain": [
       "                Name   Classe\n",
       "0         A_test.jpg    space\n",
       "1         B_test.jpg        E\n",
       "2         C_test.jpg        C\n",
       "3         D_test.jpg        D\n",
       "4         E_test.jpg        E\n",
       "5         F_test.jpg        F\n",
       "6         G_test.jpg        G\n",
       "7         H_test.jpg        H\n",
       "8         I_test.jpg        I\n",
       "9         J_test.jpg        J\n",
       "10        K_test.jpg        K\n",
       "11        L_test.jpg        L\n",
       "12        M_test.jpg        O\n",
       "13  nothing_test.jpg  nothing\n",
       "14        N_test.jpg        G\n",
       "15        O_test.jpg        E\n",
       "16        P_test.jpg        Q\n",
       "17        Q_test.jpg        Q\n",
       "18        R_test.jpg        U\n",
       "19    space_test.jpg        J\n",
       "20        S_test.jpg        S\n",
       "21        T_test.jpg        S\n",
       "22        U_test.jpg        L\n",
       "23        V_test.jpg        V\n",
       "24        W_test.jpg        I\n",
       "25        X_test.jpg        Z\n",
       "26        Y_test.jpg        F\n",
       "27        Z_test.jpg        Z"
      ]
     },
     "execution_count": 45,
     "metadata": {},
     "output_type": "execute_result"
    }
   ],
   "source": [
    "# Submit File \n",
    "#creation du fichiers csv\n",
    "\n",
    "dic={\"Name\": data_pred[\"Image_name\"].values,\n",
    "    \"Classe\":y_pred}\n",
    "\n",
    "df_result=pd.DataFrame(dic)\n",
    "df_result\n",
    "#df_result.to_csv(\"Prediction_SAID_ABDEREMANE.csv\",index=False)"
   ]
  },
  {
   "cell_type": "code",
   "execution_count": 46,
   "metadata": {},
   "outputs": [
    {
     "data": {
      "text/plain": [
       "75.0"
      ]
     },
     "execution_count": 46,
     "metadata": {},
     "output_type": "execute_result"
    }
   ],
   "source": [
    "(15/20)*100"
   ]
  }
 ],
 "metadata": {
  "kernelspec": {
   "display_name": "Python 3",
   "language": "python",
   "name": "python3"
  },
  "language_info": {
   "codemirror_mode": {
    "name": "ipython",
    "version": 3
   },
   "file_extension": ".py",
   "mimetype": "text/x-python",
   "name": "python",
   "nbconvert_exporter": "python",
   "pygments_lexer": "ipython3",
   "version": "3.7.4"
  }
 },
 "nbformat": 4,
 "nbformat_minor": 2
}
